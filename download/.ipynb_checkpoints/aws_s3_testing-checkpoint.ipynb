{
 "cells": [
  {
   "cell_type": "markdown",
   "metadata": {},
   "source": [
    "# Status:\n",
    "## Reaching out to s3 bucket to check if the target objects exist\n",
    "### Todo: finish existence function, create downloading function, adjust to console inputs similar to other script, check prices of downloading since it is a payer-request bucket"
   ]
  },
  {
   "cell_type": "code",
   "execution_count": null,
   "metadata": {},
   "outputs": [],
   "source": [
    "import argparse\n",
    "import json\n",
    "import re\n",
    "import os\n",
    "from pathlib import Path\n",
    "from sys import path_importer_cache\n",
    "\n",
    "import boto3"
   ]
  },
  {
   "cell_type": "code",
   "execution_count": 5,
   "metadata": {},
   "outputs": [],
   "source": [
    "# requires you to set your region to eu-central-1\n",
    "\n",
    "# full example CLI command: aws s3 ls s3://sentinel-s2-l2a/tiles/18/N/WM/2021/10/10/0/R10m/B04.jp2 --request-payer requester --region eu-central-1\n",
    "\n",
    "\n",
    "\n",
    "# aws s3 ls s3://sentinel-s2-l2a/tiles/18/N/WM/2021/10/10/0/ \n",
    "# prefix defined using: tiles/[UTM code]/latitude band/square/[year]/[month]/[day]/[sequence]/DATA\n",
    "#    from: https://roda.sentinel-hub.com/sentinel-s2-l2a/readme.html\n",
    "'''\n",
    "all farm points/geometries exist under the two tiles:\n",
    "    18NWM (left)\n",
    "        MULTIPOLYGON(((-75.0001808311513 6.33304216613588,-75.0001805130999 5.33975051433054,-74.0092137321756 5.33895147179259,-74.007468385398 6.33209340998613,-75.0001808311513 6.33304216613588)))\n",
    "    18NXM (right)\n",
    "        MULTIPOLYGON(((-74.0958824705718 6.33225490763692,-74.0974723969699 5.33908748516154,-73.1067674643747 5.33683314603249,-73.1034341557557 6.3295781838079,-74.0958824705718 6.33225490763692)))\n",
    "\n",
    "'''\n",
    "\n",
    "s3_client = boto3.client(\"s3\", region_name='eu-central-1')\n",
    "\n",
    "bucket = 'sentinel-s2-l2a'\n",
    "\n",
    "# example prefix: tiles/18/N/WM/2021/10/10/0/R10m/B04.jp2\n",
    "target_prefix = 'tiles/'  # to be appended to\n",
    "\n",
    "left = '18/N/WM/'\n",
    "right = '18/N/XM'\n",
    "\n",
    "day = 10\n",
    "month = 10\n",
    "year = 2021\n",
    "date = f\"{year}/{month}/{day}/0/\"  # 0 indicates it is the first grouping of images (never saw more than one)\n",
    "\n",
    "bands=['R10m/B04', 'R10m/B08']\n",
    "metafiles=['tileInfo', 'qi/MSK_CLOUDS_B00']\n",
    "\n",
    "\n",
    "max_keys = 20\n",
    "\n",
    "target_response = s3_client.list_objects_v2(\n",
    "    Bucket=bucket,\n",
    "    MaxKeys=max_keys,\n",
    "    Prefix=target_prefix,\n",
    "    RequestPayer='requester',\n",
    ")\n",
    "\n",
    "def checkExistence(s3_client, bucket, ):\n",
    "    '''\n",
    "    Checks if object with current prefix exists in bucket\n",
    "    '''\n",
    "    #TODO\n",
    "    pass\n",
    "\n",
    "\n",
    "\n",
    "# response = client.list_objects_v2(\n",
    "#     Bucket='string',\n",
    "#     Delimiter='string',\n",
    "#     EncodingType='url',\n",
    "#     MaxKeys=123,\n",
    "#     Prefix='string',\n",
    "#     ContinuationToken='string',\n",
    "#     FetchOwner=True|False,\n",
    "#     StartAfter='string',\n",
    "#     RequestPayer='requester',\n",
    "#     ExpectedBucketOwner='string'\n",
    "# )\n",
    "\n"
   ]
  },
  {
   "cell_type": "code",
   "execution_count": null,
   "metadata": {},
   "outputs": [],
   "source": []
  },
  {
   "cell_type": "code",
   "execution_count": null,
   "metadata": {},
   "outputs": [],
   "source": []
  }
 ],
 "metadata": {
  "kernelspec": {
   "display_name": "Python 3",
   "language": "python",
   "name": "python3"
  },
  "language_info": {
   "codemirror_mode": {
    "name": "ipython",
    "version": 3
   },
   "file_extension": ".py",
   "mimetype": "text/x-python",
   "name": "python",
   "nbconvert_exporter": "python",
   "pygments_lexer": "ipython3",
   "version": "3.8.5"
  }
 },
 "nbformat": 4,
 "nbformat_minor": 4
}
